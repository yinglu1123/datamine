{
 "cells": [
  {
   "cell_type": "code",
   "execution_count": 40,
   "metadata": {},
   "outputs": [
    {
     "name": "stderr",
     "output_type": "stream",
     "text": [
      "D:\\Anaconda3\\lib\\site-packages\\sklearn\\linear_model\\logistic.py:433: FutureWarning: Default solver will be changed to 'lbfgs' in 0.22. Specify a solver to silence this warning.\n",
      "  FutureWarning)\n"
     ]
    }
   ],
   "source": [
    "from sklearn import datasets\n",
    "import matplotlib.pyplot as plt \n",
    " \n",
    "data,target = datasets.make_classification(n_samples=1000,n_features=2,\n",
    "                                           n_informative=2,n_redundant=0,n_repeated=0,\n",
    "                                           n_classes=2,n_clusters_per_class=1)\n",
    "from sklearn.linear_model import LogisticRegression\n",
    "from sklearn.model_selection import train_test_split\n",
    "X_train,X_test,y_train,y_test = train_test_split(data,target,test_size=0.3,random_state=1221)\n",
    "lr=LogisticRegression()\n",
    "lr.fit(X_train,y_train)\n",
    "y_pred=lr.predict_proba(X_test)[:,1]"
   ]
  },
  {
   "cell_type": "code",
   "execution_count": 41,
   "metadata": {},
   "outputs": [],
   "source": [
    "def sort_prob(y_pred):  \n",
    "    sorted_pred = sorted(range(len(y_pred)), key = lambda i : y_pred[i],reverse = True)#按照概率值大小排序，得到重排之后的位置\n",
    "    rea_class=y_test[sorted_pred]\n",
    "    score=y_pred[sorted_pred]\n",
    "    thresarr=list(score.copy())\n",
    "    thresarr.insert(0,1)\n",
    "    thresarr.append(0)\n",
    "    return rea_class,score,thresarr"
   ]
  },
  {
   "cell_type": "code",
   "execution_count": 45,
   "metadata": {},
   "outputs": [],
   "source": [
    "#score是概率值,thres是阈值，根据这个部分可以计算出来一对tpr,fpr的值\n",
    "def cal_rate(score,thres):\n",
    "    tp=0\n",
    "    fp=0\n",
    "    tn=0\n",
    "    fn=0\n",
    "    for i in range(len(score)):\n",
    "        if score[i]>=thres:#预测值为1 \n",
    "            if rea_class[i]==1:#实际值为1，预测值为1\n",
    "                tp+=1\n",
    "            else:#实际值为0,预测值为1\n",
    "                fp+=1\n",
    "        else:#预测值为0\n",
    "            if rea_class[i]==0:#实际值为0，预测值为0\n",
    "                tn+=1\n",
    "            else:#实际值为1，预测值为0\n",
    "                fn+=1\n",
    "    fpr=fp/n0\n",
    "    tpr=tp/n1\n",
    "    return fpr,tpr"
   ]
  },
  {
   "cell_type": "code",
   "execution_count": 46,
   "metadata": {},
   "outputs": [],
   "source": [
    "rea_class,score,thresarr=sort_prob(y_pred)\n",
    "def get_fpr_tpr(rea_class,score,thresarr):  \n",
    "    n0=sum(rea_class==0)\n",
    "    n1=sum(rea_class==1)\n",
    "    tprarr=[]\n",
    "    fprarr=[]\n",
    "    for i in thresarr:\n",
    "        fpr,tpr=cal_rate(score,i)\n",
    "        tprarr.append(tpr)\n",
    "        fprarr.append(fpr)\n",
    "    return fprarr,tprarr"
   ]
  },
  {
   "cell_type": "code",
   "execution_count": 47,
   "metadata": {},
   "outputs": [],
   "source": [
    "fprarr,tprarr=get_fpr_tpr(rea_class,score,thresarr)"
   ]
  },
  {
   "cell_type": "code",
   "execution_count": 2,
   "metadata": {},
   "outputs": [],
   "source": [
    "#绘制ROC曲线的函数\n",
    "def plot_roc(fpr,tpr,auc):\n",
    "    plt.plot(fpr,tpr,label='LR:AUC=%.3f'%auc)\n",
    "    plt.plot([0,1],[0,1],'--')\n",
    "    plt.xlim([0,1])\n",
    "    plt.ylim([0,1])\n",
    "    plt.xlabel('False Positive Rate',fontdict={'fontsize':12},labelpad=10)\n",
    "    plt.ylabel('True Positive Rate',fontdict={'fontsize':12},labelpad=10)\n",
    "    plt.title('ROC curve',fontdict={'fontsize':20})\n",
    "    plt.legend(loc=0,fontsize=11)"
   ]
  },
  {
   "cell_type": "code",
   "execution_count": 28,
   "metadata": {},
   "outputs": [],
   "source": [
    "def calc_auc(rea_class,score):\n",
    "    f0=score[rea_class==0]#所有的负样本\n",
    "    f1=score[rea_class==1]#所有的正样本\n",
    "    n0=sum(rea_class==0)\n",
    "    n1=sum(rea_class==1)\n",
    "    res=0\n",
    "    for i in f0:#所有的负样本\n",
    "        for j in f1:#所有的正样本\n",
    "            if j<i:\n",
    "                res+=1\n",
    "            elif j==i:\n",
    "                res+=0.5\n",
    "            else:\n",
    "                res=res\n",
    "    auc=1-res/(n0*n1)\n",
    "    return auc"
   ]
  },
  {
   "cell_type": "code",
   "execution_count": 27,
   "metadata": {},
   "outputs": [
    {
     "data": {
      "image/png": "[encoded data removed]",
      "text/plain": [
       "<Figure size 432x288 with 1 Axes>"
      ]
     },
     "metadata": {
      "needs_background": "light"
     },
     "output_type": "display_data"
    }
   ],
   "source": [
    "from matplotlib import pyplot as plt\n",
    "myAUC=calc_auc(fprarr,tprarr)\n",
    "plot_roc(fprarr,tprarr,myAUC)"
   ]
  },
  {
   "cell_type": "code",
   "execution_count": 3,
   "metadata": {},
   "outputs": [
    {
     "name": "stderr",
     "output_type": "stream",
     "text": [
      "D:\\Anaconda3\\lib\\importlib\\_bootstrap.py:219: RuntimeWarning: numpy.ufunc size changed, may indicate binary incompatibility. Expected 192 from C header, got 216 from PyObject\n",
      "  return f(*args, **kwds)\n",
      "D:\\Anaconda3\\lib\\importlib\\_bootstrap.py:219: RuntimeWarning: numpy.ufunc size changed, may indicate binary incompatibility. Expected 192 from C header, got 216 from PyObject\n",
      "  return f(*args, **kwds)\n"
     ]
    }
   ],
   "source": [
    "import pandas as pd\n",
    "import numpy as np"
   ]
  },
  {
   "cell_type": "code",
   "execution_count": null,
   "metadata": {},
   "outputs": [],
   "source": []
  }
 ],
 "metadata": {
  "kernelspec": {
   "display_name": "Python 3",
   "language": "python",
   "name": "python3"
  },
  "language_info": {
   "codemirror_mode": {
    "name": "ipython",
    "version": 3
   },
   "file_extension": ".py",
   "mimetype": "text/x-python",
   "name": "python",
   "nbconvert_exporter": "python",
   "pygments_lexer": "ipython3",
   "version": "3.7.3"
  }
 },
 "nbformat": 4,
 "nbformat_minor": 2
}

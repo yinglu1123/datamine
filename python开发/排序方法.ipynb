{
 "cells": [
  {
   "cell_type": "code",
   "execution_count": 3,
   "metadata": {},
   "outputs": [],
   "source": [
    "alist=[54,26,93,17,77,31,44,55,20]"
   ]
  },
  {
   "cell_type": "code",
   "execution_count": 34,
   "metadata": {},
   "outputs": [],
   "source": [
    "#冒泡排序O(n2)\n",
    "\"\"\"\n",
    "def bubble_sort(alist):\n",
    "    n=len(alist)\n",
    "    for j in range(n-1):\n",
    "        for i in range(n-1-j):\n",
    "            if alist[i]>alist[i+1]:\n",
    "                alist[i],alist[i+1]=alist[i+1],alist[i]\n",
    "    return alist\n",
    "\"\"\"\n",
    "\"\"\"\n",
    "#冒泡排序\n",
    "def bubble_sort(alist):\n",
    "    n=len(alist)\n",
    "    for j in range(n-1,0,-1):\n",
    "        for i in range(j):\n",
    "            if alist[i]>alist[i+1]:\n",
    "                alist[i],alist[i+1]=alist[i+1],alist[i]\n",
    "    return alist\n",
    "\"\"\"\n",
    "def bubble_sort(alist):\n",
    "    j=len(alist)-1\n",
    "    count=True\n",
    "    while j>0 and count:\n",
    "        for i in range(j):\n",
    "            if alist[i]>alist[i+1]:\n",
    "                alist[i],alist[i+1]=alist[i+1],alist[i]\n",
    "            else:\n",
    "                count=False\n",
    "                \n",
    "        j-=1\n",
    "    return alist"
   ]
  },
  {
   "cell_type": "code",
   "execution_count": 51,
   "metadata": {},
   "outputs": [],
   "source": [
    "#选择排序\n",
    "def choose_sort(alist):\n",
    "    for i in range(len(alist)-1):\n",
    "        min=i\n",
    "        for j in range(i+1,len(alist)):\n",
    "            if alist[min]>alist[j]:\n",
    "                min=j  \n",
    "        alist[i],alist[min]=alist[min],alist[i]        \n",
    "    return alist"
   ]
  },
  {
   "cell_type": "code",
   "execution_count": 60,
   "metadata": {},
   "outputs": [],
   "source": [
    "#插入排序\n",
    "def insert_sort(alist):\n",
    "    for i in range(1,len(alist)):\n",
    "        for j in range(i-1,-1,-1):\n",
    "            if alist[i]<alist[j]:\n",
    "                alist[i],alist[j]=alist[j],alist[i]\n",
    "                i-=1\n",
    "    return alist"
   ]
  },
  {
   "cell_type": "code",
   "execution_count": 4,
   "metadata": {},
   "outputs": [],
   "source": [
    "#插入排序\n",
    "def insert_sort(alist):\n",
    "    for i in range(1,len(alist)):\n",
    "        while i>0:\n",
    "            if alist[i]<alist[i-1]:\n",
    "                alist[i],alist[i-1]=alist[i-1],alist[i]\n",
    "                i-=1\n",
    "            else:\n",
    "                break\n",
    "    return alist"
   ]
  },
  {
   "cell_type": "code",
   "execution_count": 5,
   "metadata": {},
   "outputs": [
    {
     "data": {
      "text/plain": [
       "[17, 20, 26, 31, 44, 54, 55, 77, 93]"
      ]
     },
     "execution_count": 5,
     "metadata": {},
     "output_type": "execute_result"
    }
   ],
   "source": [
    "insert_sort(alist)"
   ]
  },
  {
   "cell_type": "code",
   "execution_count": null,
   "metadata": {},
   "outputs": [],
   "source": [
    "[54,26,93,17,77,31,44,55,20]\n",
    "[26,54,93,17,77,31,44,55,20]\n",
    "i=3,j=2,1,0\n",
    "j=2时，alist[3],alist[2]=alist[2],alist[3]\n",
    "[26,54,17,93,77,31,44,55,20]\n",
    "j=1时，alist[2],alist[1]=alist[1],alist[2]\n",
    "[26,17,54,93,77,31,44,55,20]\n",
    "j=0时，alist[1],alist[0]=alist[0],alist[1]\n",
    "[17,26,54,93,77,31,44,55,20]\n",
    "i=4,j=3,2,1,0\n",
    "[17,26,54,77,93,31,44,55,20]\n",
    "i=5,j=4,3,2,1,0\n",
    "[17,26,54,77,31,93,44,55,20]"
   ]
  },
  {
   "cell_type": "code",
   "execution_count": 55,
   "metadata": {},
   "outputs": [
    {
     "name": "stdout",
     "output_type": "stream",
     "text": [
      "2\n",
      "1\n",
      "0\n"
     ]
    }
   ],
   "source": [
    " for j in range(2,-1,-1):\n",
    "        print(j)"
   ]
  },
  {
   "cell_type": "code",
   "execution_count": null,
   "metadata": {},
   "outputs": [],
   "source": []
  },
  {
   "cell_type": "code",
   "execution_count": null,
   "metadata": {},
   "outputs": [],
   "source": []
  }
 ],
 "metadata": {
  "kernelspec": {
   "display_name": "Python 3",
   "language": "python",
   "name": "python3"
  },
  "language_info": {
   "codemirror_mode": {
    "name": "ipython",
    "version": 3
   },
   "file_extension": ".py",
   "mimetype": "text/x-python",
   "name": "python",
   "nbconvert_exporter": "python",
   "pygments_lexer": "ipython3",
   "version": "3.7.3"
  }
 },
 "nbformat": 4,
 "nbformat_minor": 2
}
